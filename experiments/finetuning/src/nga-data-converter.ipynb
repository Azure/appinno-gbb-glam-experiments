{
 "cells": [
  {
   "cell_type": "markdown",
   "metadata": {},
   "source": [
    "## Hugging Face Fine-tuning Datasets\n",
    "\n",
    "This exists to convert the *.jsonl template to a local Hugging Face dataset that we save/load using `save_to_disk` and `load_from_disk` respectively. To make easier at the beginning, just matching the sample `HuggingFaceM4/the_cauldron` dataset format with minimal adjustment (downloading image data versus a url, adding system, removing user, removing source):\n",
    "\n",
    "```json\n",
    "{\n",
    "    \"images\" = [PIL.Image]\n",
    "    \"texts\" = [\n",
    "        {\n",
    "            \"user\": \"Question: How many actions are depicted in the diagram?\\nChoices:\\nA. 6.\\nB. 4.\\nC. 8.\\nD. 7.\\nAnswer with the letter.\",\n",
    "            \"assistant\": \"Answer: D\",\n",
    "            \"source\": \"TQA\"\n",
    "        }\n",
    "    ]\n",
    "}\n",
    "```"
   ]
  },
  {
   "cell_type": "code",
   "execution_count": 1,
   "metadata": {},
   "outputs": [],
   "source": [
    "import sys\n",
    "\n",
    "!{sys.executable} -m pip install Pillow --quiet"
   ]
  },
  {
   "cell_type": "code",
   "execution_count": 3,
   "metadata": {},
   "outputs": [
    {
     "name": "stderr",
     "output_type": "stream",
     "text": [
      "Saving the dataset (1/1 shards): 100%|██████████| 112/112 [00:00<00:00, 20441.32 examples/s]\n",
      "Saving the dataset (1/1 shards): 100%|██████████| 17/17 [00:00<00:00, 2892.62 examples/s]\n"
     ]
    }
   ],
   "source": [
    "from collections import defaultdict\n",
    "from datasets import Dataset\n",
    "import json\n",
    "from PIL import Image\n",
    "import requests\n",
    "\n",
    "# Load source data\n",
    "\n",
    "training_data = []\n",
    "with open('training-data/training.jsonl', 'r') as file:\n",
    "    for line in file:\n",
    "        training_data.append(json.loads(line))\n",
    "\n",
    "evaluation_data = []\n",
    "with open('training-data/evaluation.jsonl', 'r') as file:\n",
    "    for line in file:\n",
    "        evaluation_data.append(json.loads(line))\n",
    "\n",
    "# Transform to target dataset style\n",
    "\n",
    "output_training_data = defaultdict(list)\n",
    "for td in training_data:\n",
    "    img_url = td[\"messages\"][1][\"content\"][0][\"image_url\"][\"url\"]\n",
    "    img = Image.open(requests.get(img_url, stream=True).raw)\n",
    "    output_training_data[\"images\"].append([ img ])\n",
    "    output_training_data[\"messages\"].append([\n",
    "        {\n",
    "            \"system\": td[\"messages\"][0][\"content\"],\n",
    "            \"assistant\": td[\"messages\"][2][\"content\"]\n",
    "        }\n",
    "    ])\n",
    "train_dataset = Dataset.from_dict(output_training_data)\n",
    "train_dataset.save_to_disk(\"training-data/training.hf\")\n",
    "\n",
    "output_evaluation_data = defaultdict(list)\n",
    "for ed in evaluation_data:\n",
    "    img_url = ed[\"messages\"][1][\"content\"][0][\"image_url\"][\"url\"]\n",
    "    img = Image.open(requests.get(img_url, stream=True).raw)\n",
    "    output_evaluation_data[\"images\"].append([ img ])\n",
    "    output_evaluation_data[\"messages\"].append([\n",
    "        {\n",
    "            \"system\": ed[\"messages\"][0][\"content\"],\n",
    "            \"assistant\": ed[\"messages\"][2][\"content\"]\n",
    "        }\n",
    "    ])\n",
    "eval_dataset = Dataset.from_dict(output_evaluation_data)\n",
    "eval_dataset.save_to_disk(\"training-data/evaluation.hf\")\n",
    "\n"
   ]
  }
 ],
 "metadata": {
  "kernelspec": {
   "display_name": ".venv",
   "language": "python",
   "name": "python3"
  },
  "language_info": {
   "codemirror_mode": {
    "name": "ipython",
    "version": 3
   },
   "file_extension": ".py",
   "mimetype": "text/x-python",
   "name": "python",
   "nbconvert_exporter": "python",
   "pygments_lexer": "ipython3",
   "version": "3.10.12"
  }
 },
 "nbformat": 4,
 "nbformat_minor": 2
}
