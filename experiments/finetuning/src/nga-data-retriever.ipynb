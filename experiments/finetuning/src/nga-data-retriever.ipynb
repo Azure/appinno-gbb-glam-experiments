{
 "cells": [
  {
   "cell_type": "code",
   "execution_count": 1,
   "metadata": {
    "dotnet_interactive": {
     "language": "csharp"
    },
    "polyglot_notebook": {
     "kernelName": "csharp"
    },
    "vscode": {
     "languageId": "polyglot-notebook"
    }
   },
   "outputs": [
    {
     "data": {
      "text/html": [
       "<div><div></div><div></div><div><strong>Installed Packages</strong><ul><li><span>HtmlAgilityPack, 1.11.62</span></li></ul></div></div>"
      ]
     },
     "metadata": {},
     "output_type": "display_data"
    }
   ],
   "source": [
    "#r \"nuget: HtmlAgilityPack, 1.11.62\""
   ]
  },
  {
   "cell_type": "markdown",
   "metadata": {},
   "source": [
    "## Fine-Tuning Source: National Gallery of Art\n",
    "\n",
    "In an attempt to fine-tune **GPT-4 Omni Mini** to provide better image descriptions, this experiment utilizes the National Gallery of Art's existing description of collection highlights as a training set and their specified examples as the evaluation set.\n",
    "\n",
    "### Models"
   ]
  },
  {
   "cell_type": "code",
   "execution_count": 2,
   "metadata": {
    "dotnet_interactive": {
     "language": "csharp"
    },
    "polyglot_notebook": {
     "kernelName": "csharp"
    },
    "vscode": {
     "languageId": "polyglot-notebook"
    }
   },
   "outputs": [],
   "source": [
    "using System.Text.Json.Serialization;\n",
    "\n",
    "// Models from the search for NGA data\n",
    "\n",
    "public record Artist(\n",
    "    [property: JsonPropertyName(\"name\")] string Name\n",
    ");\n",
    "\n",
    "public record ObjectResult(\n",
    "    [property: JsonPropertyName(\"assistivetext\")] string AssistiveText,\n",
    "    [property: JsonPropertyName(\"imagepath\")] string ImageUrl,\n",
    "    [property: JsonPropertyName(\"artists\")] Artist[] Artists,\n",
    "    [property: JsonPropertyName(\"id\")] int Id,\n",
    "    [property: JsonPropertyName(\"title\")] string Title,\n",
    "    [property: JsonPropertyName(\"url\")] string ObjectUrl\n",
    ");\n",
    "\n",
    "public record SearchResponse(\n",
    "    [property: JsonPropertyName(\"results\")] ObjectResult[] Results\n",
    ");\n",
    "\n",
    "// Models as needed to produce training and validation datasets\n",
    "\n",
    "[JsonDerivedType(typeof(TextContent))]\n",
    "[JsonDerivedType(typeof(ImageContent))]\n",
    "public abstract record Content(\n",
    "    [property: JsonPropertyName(\"type\")] string Type\n",
    ");\n",
    "\n",
    "public record TextContent(\n",
    "    [property: JsonPropertyName(\"text\")] string Text\n",
    ") : Content(\"text\");\n",
    "\n",
    "public record ImageUrl(\n",
    "    [property: JsonPropertyName(\"url\")] string Url\n",
    ");\n",
    "\n",
    "public record ImageContent(\n",
    "    [property: JsonPropertyName(\"image_url\")] ImageUrl ImageUrl\n",
    ") : Content(\"image_url\");\n",
    "\n",
    "[JsonDerivedType(typeof(SystemMessage))]\n",
    "[JsonDerivedType(typeof(UserMessage))]\n",
    "[JsonDerivedType(typeof(AssistantMessage))]\n",
    "public abstract record Message(\n",
    "    [property: JsonPropertyName(\"role\")] string Role\n",
    ");\n",
    "\n",
    "public record SystemMessage(\n",
    "    [property: JsonPropertyName(\"content\")] string Content\n",
    ") : Message(\"system\");\n",
    "\n",
    "public record UserMessage(\n",
    "    [property: JsonPropertyName(\"content\")] Content[] Content\n",
    ") : Message(\"user\");\n",
    "\n",
    "public record AssistantMessage(\n",
    "    [property: JsonPropertyName(\"content\")] string Content\n",
    ") : Message(\"assistant\");\n",
    "\n",
    "public record TrainingData(\n",
    "    [property: JsonPropertyName(\"messages\")] Message[] Messages\n",
    ");"
   ]
  },
  {
   "cell_type": "markdown",
   "metadata": {},
   "source": [
    "### Training Dataset: Collection Highlights\n",
    "\n",
    "<https://www.nga.gov/collection/highlights.html>\n",
    "\n",
    "The collection highlights page depends on a search API that provides a JSON response. This chunk of code will directly request from the search API as many as 200 examples and write the response to a JSON file in the *output* directory.\n",
    "\n",
    "Example response format truncated to fields of interest:\n",
    "\n",
    "```json\n",
    "{\n",
    "   \"results\": [\n",
    "      {\n",
    "         \"assistivetext\": \"This text is what we want as it is used for <img> alt text and the Image Description block on the object page.\",\n",
    "         \"imagepath\": \"https://this/is/what/we/want/default.jpg\",\n",
    "         // EXTRAS THAT MIGHT BE GOOD TO HAVE...\n",
    "         \"artists\": [\n",
    "            {\n",
    "               \"name\": \"Artist Name\"\n",
    "            }\n",
    "         ],\n",
    "         \"id\": 123,\n",
    "         \"title\": \"Object title\",\n",
    "         \"url\": \"/collection/path/object-page.html\"\n",
    "      }\n",
    "   ]\n",
    "}\n",
    "```"
   ]
  },
  {
   "cell_type": "code",
   "execution_count": 3,
   "metadata": {
    "dotnet_interactive": {
     "language": "csharp"
    },
    "polyglot_notebook": {
     "kernelName": "csharp"
    },
    "vscode": {
     "languageId": "polyglot-notebook"
    }
   },
   "outputs": [],
   "source": [
    "using System.Net.Http;\n",
    "using System.IO;\n",
    "\n",
    "// Sourcing from data returned to build this page: https://www.nga.gov/collection/highlights.html. Note that \n",
    "// the request includes the object IDs. These may be different as the highlights change.\n",
    "\n",
    "string searchUrl = \"https://www.nga.gov/bin/ngaweb/collection-search-result/search.pageSize__200.pageNumber__1.lastFacet__pageSize.json?artobj_objectIds=119052&artobj_objectIds=108125&artobj_objectIds=132371&artobj_objectIds=78899&artobj_objectIds=1145&artobj_objectIds=105596&artobj_objectIds=60113&artobj_objectIds=102578&artobj_objectIds=80924&artobj_objectIds=194933&artobj_objectIds=95419&artobj_objectIds=1437&artobj_objectIds=53157&artobj_objectIds=124525&artobj_objectIds=69660&artobj_objectIds=166425&artobj_objectIds=46569&artobj_objectIds=169312&artobj_objectIds=206066&artobj_objectIds=215454&artobj_objectIds=86848&artobj_objectIds=52451&artobj_objectIds=54386&artobj_objectIds=1606&artobj_objectIds=50724&artobj_objectIds=12198&artobj_objectIds=432&artobj_objectIds=111152&artobj_objectIds=97&artobj_objectIds=79531&artobj_objectIds=102589&artobj_objectIds=142289&artobj_objectIds=35080&artobj_objectIds=52614&artobj_objectIds=73890&artobj_objectIds=170952&artobj_objectIds=154931&artobj_objectIds=60&artobj_objectIds=92718&artobj_objectIds=56670&artobj_objectIds=576&artobj_objectIds=92729&artobj_objectIds=74796&artobj_objectIds=138771&artobj_objectIds=67496&artobj_objectIds=1231&artobj_objectIds=92&artobj_objectIds=86864&artobj_objectIds=55819&artobj_objectIds=135512&artobj_objectIds=73438&artobj_objectIds=109637&artobj_objectIds=132078&artobj_objectIds=26&artobj_objectIds=30776&artobj_objectIds=1225&artobj_objectIds=160348&artobj_objectIds=140327&artobj_objectIds=46303&artobj_objectIds=30667&artobj_objectIds=75206&artobj_objectIds=88615&artobj_objectIds=166490&artobj_objectIds=85908&artobj_objectIds=166436&artobj_objectIds=41645&artobj_objectIds=165921&artobj_objectIds=39729&artobj_objectIds=118179&artobj_objectIds=55740&artobj_objectIds=41&artobj_objectIds=46579&artobj_objectIds=66250&artobj_objectIds=41714&artobj_objectIds=209632&artobj_objectIds=11502&artobj_objectIds=97499&artobj_objectIds=1005&artobj_objectIds=53814&artobj_objectIds=166463&artobj_objectIds=110292&artobj_objectIds=55742&artobj_objectIds=74978&artobj_objectIds=166484&artobj_objectIds=138710&artobj_objectIds=46665&artobj_objectIds=12189&artobj_objectIds=166446&artobj_objectIds=110216&artobj_objectIds=195052&artobj_objectIds=46201&artobj_objectIds=164039&artobj_objectIds=43624&artobj_objectIds=41581&artobj_objectIds=163184&artobj_objectIds=30228&artobj_objectIds=166457&artobj_objectIds=139124&artobj_objectIds=46&artobj_objectIds=1138&artobj_objectIds=70170&artobj_objectIds=120&artobj_objectIds=96688&artobj_objectIds=397&artobj_objectIds=159784&artobj_objectIds=51&artobj_objectIds=53130&artobj_objectIds=46471&artobj_objectIds=70179&artobj_objectIds=33253&artobj_objectIds=46114&artobj_objectIds=1147&artobj_objectIds=177822&artobj_objectIds=91009&artobj_objectIds=142055\";\n",
    "\n",
    "// Dump full JSON response to file\n",
    "\n",
    "HttpClient httpClient = new();\n",
    "HttpResponseMessage response = await httpClient.GetAsync(searchUrl);\n",
    "response.EnsureSuccessStatusCode();\n",
    "string responseBody = await response.Content.ReadAsStringAsync();\n",
    "\n",
    "await File.WriteAllTextAsync(\"training-data/highlights.json\", responseBody);"
   ]
  },
  {
   "cell_type": "code",
   "execution_count": 4,
   "metadata": {
    "dotnet_interactive": {
     "language": "csharp"
    },
    "polyglot_notebook": {
     "kernelName": "csharp"
    },
    "vscode": {
     "languageId": "polyglot-notebook"
    }
   },
   "outputs": [],
   "source": [
    "using System.Text.Json;\n",
    "\n",
    "SearchResponse searchResponse = JsonSerializer.Deserialize<SearchResponse>(responseBody);\n",
    "\n",
    "List<TrainingData> trainingDataset = new();\n",
    "\n",
    "foreach (var obj in searchResponse.Results)\n",
    "{\n",
    "    if (string.IsNullOrWhiteSpace(obj.AssistiveText))\n",
    "        continue;\n",
    "\n",
    "    Message[] messages = \n",
    "    [\n",
    "        new SystemMessage(\"You describe art for low vision folks. You will be given an image. Describe clearly and concisely only what is visible in the image. Avoid stylistic comparisons and suggestions.\"),\n",
    "        new UserMessage([ new ImageContent(new ImageUrl(obj.ImageUrl)) ]),\n",
    "        new AssistantMessage(obj.AssistiveText)\n",
    "    ];\n",
    "    trainingDataset.Add(new TrainingData(messages));\n",
    "}\n",
    "\n",
    "// Write to file\n",
    "\n",
    "string outputFile = \"training-data/training.jsonl\";\n",
    "\n",
    "if (File.Exists(outputFile))\n",
    "{\n",
    "    File.Delete(outputFile);\n",
    "}\n",
    "\n",
    "foreach(var data in trainingDataset)\n",
    "{\n",
    "    File.AppendAllText(outputFile, JsonSerializer.Serialize(data) + Environment.NewLine);\n",
    "}"
   ]
  },
  {
   "cell_type": "markdown",
   "metadata": {},
   "source": [
    "### Evaluation Dataset: Examples of Short Descriptions\n",
    "\n",
    "<https://www.nga.gov/visit/accessibility/collection-image-descriptions/short-description-examples.html>\n",
    "\n",
    "This page displays an image followed by artist, title (with link to the object page), date, and image description. The `<img>` tag also includes an `alt` property that is the same text as used for the image description. To more easily scrape, we can load this page, pull all `div.ngaimage` elements, pull their child `img` elements, and create an example user and assistant messages."
   ]
  },
  {
   "cell_type": "code",
   "execution_count": 5,
   "metadata": {
    "dotnet_interactive": {
     "language": "csharp"
    },
    "polyglot_notebook": {
     "kernelName": "csharp"
    },
    "vscode": {
     "languageId": "polyglot-notebook"
    }
   },
   "outputs": [],
   "source": [
    "using HtmlAgilityPack;\n",
    "\n",
    "string shortDescriptionExamplesPage = \"https://www.nga.gov/visit/accessibility/collection-image-descriptions/short-description-examples.html\";\n",
    "\n",
    "var html = await httpClient.GetStringAsync(shortDescriptionExamplesPage);\n",
    "var doc = new HtmlDocument();\n",
    "doc.LoadHtml(html);\n",
    "\n",
    "var imgNodes = doc.DocumentNode.Descendants(\"figure\").Select(fig => fig.Descendants(\"img\").First());\n",
    "\n",
    "List<TrainingData> evaluationDataset = new();\n",
    "\n",
    "foreach(var img in imgNodes)\n",
    "{\n",
    "    var altAtt = img.Attributes[\"alt\"];\n",
    "    var srcAtt = img.Attributes[\"src\"];\n",
    "    \n",
    "    // Don't include if there is no alt\n",
    "    if (string.IsNullOrWhiteSpace(altAtt.Value))\n",
    "        continue;\n",
    "    \n",
    "    // Don't include if it's in the training set\n",
    "    if (responseBody.Contains(altAtt.Value))\n",
    "        continue;\n",
    "    \n",
    "    Message[] messages = \n",
    "    [\n",
    "        new SystemMessage(\"You describe art for low vision folks. You will be given an image. Describe clearly and concisely only what is visible in the image. Avoid stylistic comparisons and suggestions.\"),\n",
    "        new UserMessage([ new ImageContent(new ImageUrl(srcAtt.Value)) ]),\n",
    "        new AssistantMessage(altAtt.Value)\n",
    "    ];\n",
    "    evaluationDataset.Add(new TrainingData(messages));\n",
    "}\n",
    "\n",
    "// Write to file\n",
    "\n",
    "string outputFile = \"training-data/evaluation.jsonl\";\n",
    "\n",
    "if (File.Exists(outputFile))\n",
    "{\n",
    "    File.Delete(outputFile);\n",
    "}\n",
    "\n",
    "foreach(var data in evaluationDataset)\n",
    "{\n",
    "    File.AppendAllText(outputFile, JsonSerializer.Serialize(data) + Environment.NewLine);\n",
    "}"
   ]
  },
  {
   "cell_type": "markdown",
   "metadata": {},
   "source": [
    "## Datasets\n",
    "\n",
    "### Azure OpenAI Fine-tuning\n",
    "\n",
    "- System message must be the same for all training, validation, and general usage.\n",
    "- Example file format:\n",
    "    ```json\n",
    "    {\"messages\": [{\"role\": \"system\", \"content\": \"You are an Xbox customer support agent whose primary goal is to help users with issues they are experiencing with their Xbox devices. You are friendly and concise. You only provide factual answers to queries, and do not provide answers that are not related to Xbox.\"}, {\"role\": \"user\", \"content\": \"Is Xbox better than PlayStation?\"}, {\"role\": \"assistant\", \"content\": \"I apologize, but I cannot provide personal opinions. My primary job is to assist you with any issues related to your Xbox device. Do you have any Xbox-related issues that need addressing?\"}]}\n",
    "    {\"messages\": [{\"role\": \"system\", \"content\": \"You are an Xbox customer support agent whose primary goal is to help users with issues they are experiencing with their Xbox devices. You are friendly and concise. You only provide factual answers to queries, and do not provide answers that are not related to Xbox.\"}, {\"role\": \"user\", \"content\": \"Can I play PC games on my Xbox?\"}, {\"role\": \"assistant\", \"content\": \"While Xbox consoles don't natively support PC games, they can play an array of Xbox games, many of which are also available on PC. Can I assist you with finding games compatible with your Xbox device?\"}]}\n",
    "    {\"messages\": [{\"role\": \"system\", \"content\": \"You are an Xbox customer support agent whose primary goal is to help users with issues they are experiencing with their Xbox devices. You are friendly and concise. You only provide factual answers to queries, and do not provide answers that are not related to Xbox.\"}, {\"role\": \"user\", \"content\": \"I'm having trouble connecting my Xbox to the Wi-Fi.\"}, {\"role\": \"assistant\", \"content\": \"No worries, let's go through the network settings on your Xbox. Can you please tell me what happens when you try to connect it to the Wi-Fi?\"}]}\n",
    "    ```\n",
    "\n",
    "### Hugging Face Fine-tuning\n",
    "\n",
    "- Uses `datasets` format, so see [./nga-data-converter.ipynb](./nga-data-converter.ipynb) for code that transforms the **.jsonl* format, downloads the image data, and creates a local-training-compatible dataset."
   ]
  }
 ],
 "metadata": {
  "kernelspec": {
   "display_name": ".NET (C#)",
   "language": "C#",
   "name": ".net-csharp"
  },
  "language_info": {
   "name": "python"
  },
  "polyglot_notebook": {
   "kernelInfo": {
    "defaultKernelName": "csharp",
    "items": [
     {
      "aliases": [],
      "name": "csharp"
     }
    ]
   }
  }
 },
 "nbformat": 4,
 "nbformat_minor": 2
}
